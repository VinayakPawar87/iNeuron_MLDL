{
 "cells": [
  {
   "cell_type": "markdown",
   "id": "7d9840bc",
   "metadata": {},
   "source": [
    "***1.1. Write a Python Program to implement your own myreduce() function which works exactly\n",
    "like Python's built-in function reduce()***"
   ]
  },
  {
   "cell_type": "code",
   "execution_count": 1,
   "id": "77b546df",
   "metadata": {},
   "outputs": [],
   "source": [
    "def myreduce(function, itr):\n",
    "    it = iter(itr)\n",
    "    val = next(it)\n",
    "    for i in it:\n",
    "        val = function(val, i)\n",
    "    return val"
   ]
  },
  {
   "cell_type": "code",
   "execution_count": 2,
   "id": "18ebef27",
   "metadata": {},
   "outputs": [
    {
     "data": {
      "text/plain": [
       "39"
      ]
     },
     "execution_count": 2,
     "metadata": {},
     "output_type": "execute_result"
    }
   ],
   "source": [
    "l=[4,5,6,7,8,9]\n",
    "myreduce(lambda x,y:x+y, l)"
   ]
  },
  {
   "cell_type": "markdown",
   "id": "fe376bb3",
   "metadata": {},
   "source": [
    "***1.2 Write a Python program to implement your own myfilter() function which works exactly\n",
    "like Python's built-in function filter()***"
   ]
  },
  {
   "cell_type": "code",
   "execution_count": 3,
   "id": "6a5f6eb7",
   "metadata": {},
   "outputs": [],
   "source": [
    "def myfilter(function, itr):\n",
    "    it = iter(itr)\n",
    "    a = []\n",
    "    for i in it:\n",
    "        x = function(i)\n",
    "        if x == True:\n",
    "            a.append(i)\n",
    "    return a"
   ]
  },
  {
   "cell_type": "code",
   "execution_count": 4,
   "id": "3577e6ec",
   "metadata": {},
   "outputs": [
    {
     "data": {
      "text/plain": [
       "[5, 7, 9]"
      ]
     },
     "execution_count": 4,
     "metadata": {},
     "output_type": "execute_result"
    }
   ],
   "source": [
    "l=[4,5,6,7,8,9]\n",
    "myfilter(lambda x:x%2==1,l)"
   ]
  },
  {
   "cell_type": "markdown",
   "id": "a44bed54",
   "metadata": {},
   "source": [
    "***2.Implement List comprehensions to produce the following lists.*** "
   ]
  },
  {
   "cell_type": "code",
   "execution_count": 5,
   "id": "4469543c",
   "metadata": {},
   "outputs": [],
   "source": [
    "l = ['x','y','z']"
   ]
  },
  {
   "cell_type": "markdown",
   "id": "96064d74",
   "metadata": {},
   "source": [
    "***['x', 'xx', 'xxx', 'xxxx', 'y', 'yy', 'yyy', 'yyyy', 'z', 'zz', 'zzz', 'zzzz']***"
   ]
  },
  {
   "cell_type": "code",
   "execution_count": 6,
   "id": "0ad1a86d",
   "metadata": {},
   "outputs": [
    {
     "data": {
      "text/plain": [
       "['x', 'xx', 'xxx', 'xxxx', 'y', 'yy', 'yyy', 'yyyy', 'z', 'zz', 'zzz', 'zzzz']"
      ]
     },
     "execution_count": 6,
     "metadata": {},
     "output_type": "execute_result"
    }
   ],
   "source": [
    "[i*j for j in l for i in range(1,5)]"
   ]
  },
  {
   "cell_type": "markdown",
   "id": "0e9d689e",
   "metadata": {},
   "source": [
    "***['x', 'y', 'z', 'xx', 'yy', 'zz', 'xxx', 'yyy', 'zzz', 'xxxx', 'yyyy', 'zzzz']***"
   ]
  },
  {
   "cell_type": "code",
   "execution_count": 7,
   "id": "2c92ce50",
   "metadata": {},
   "outputs": [
    {
     "data": {
      "text/plain": [
       "['x', 'y', 'z', 'xx', 'yy', 'zz', 'xxx', 'yyy', 'zzz', 'xxxx', 'yyyy', 'zzzz']"
      ]
     },
     "execution_count": 7,
     "metadata": {},
     "output_type": "execute_result"
    }
   ],
   "source": [
    "[i*j for j in range(1,5) for i in l]"
   ]
  },
  {
   "cell_type": "markdown",
   "id": "0e6327c5",
   "metadata": {},
   "source": [
    "***[[2], [3], [4], [3], [4], [5], [4], [5], [6]]***"
   ]
  },
  {
   "cell_type": "code",
   "execution_count": 8,
   "id": "d41d9f10",
   "metadata": {},
   "outputs": [
    {
     "data": {
      "text/plain": [
       "[[2], [3], [4], [3], [4], [5], [4], [5], [6]]"
      ]
     },
     "execution_count": 8,
     "metadata": {},
     "output_type": "execute_result"
    }
   ],
   "source": [
    "[[x+y] for x in range(2,5) for y in range(3)]"
   ]
  },
  {
   "cell_type": "markdown",
   "id": "558adbe2",
   "metadata": {},
   "source": [
    "***[[2, 3, 4, 5], [3, 4, 5, 6], [4, 5, 6, 7], [5, 6, 7, 8]]***"
   ]
  },
  {
   "cell_type": "code",
   "execution_count": 9,
   "id": "f9d843fd",
   "metadata": {},
   "outputs": [
    {
     "data": {
      "text/plain": [
       "[[2, 3, 4, 5], [3, 4, 5, 6], [4, 5, 6, 7], [5, 6, 7, 8]]"
      ]
     },
     "execution_count": 9,
     "metadata": {},
     "output_type": "execute_result"
    }
   ],
   "source": [
    "[[j for j in range(i+2,6+i) ] for i in range(4)]"
   ]
  },
  {
   "cell_type": "markdown",
   "id": "3b00667b",
   "metadata": {},
   "source": [
    "***[(1, 1), (2, 1), (3, 1), (1, 2), (2, 2), (3, 2), (1, 3), (2, 3), (3, 3)]***"
   ]
  },
  {
   "cell_type": "code",
   "execution_count": 10,
   "id": "88aafed7",
   "metadata": {},
   "outputs": [
    {
     "data": {
      "text/plain": [
       "[(1, 1), (2, 1), (3, 1), (1, 2), (2, 2), (3, 2), (1, 3), (2, 3), (3, 3)]"
      ]
     },
     "execution_count": 10,
     "metadata": {},
     "output_type": "execute_result"
    }
   ],
   "source": [
    "[tuple([j,i]) for i in range(1,4) for j in range(1,4)]"
   ]
  },
  {
   "cell_type": "code",
   "execution_count": null,
   "id": "7f09c99f",
   "metadata": {},
   "outputs": [],
   "source": []
  }
 ],
 "metadata": {
  "kernelspec": {
   "display_name": "Python 3",
   "language": "python",
   "name": "python3"
  },
  "language_info": {
   "codemirror_mode": {
    "name": "ipython",
    "version": 3
   },
   "file_extension": ".py",
   "mimetype": "text/x-python",
   "name": "python",
   "nbconvert_exporter": "python",
   "pygments_lexer": "ipython3",
   "version": "3.8.8"
  }
 },
 "nbformat": 4,
 "nbformat_minor": 5
}
