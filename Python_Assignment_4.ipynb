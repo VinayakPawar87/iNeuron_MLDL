{
 "cells": [
  {
   "cell_type": "markdown",
   "id": "9b6708b4",
   "metadata": {},
   "source": [
    "# Python Assignment 4"
   ]
  },
  {
   "cell_type": "markdown",
   "id": "9dd05c42",
   "metadata": {},
   "source": [
    "***1.1 Write a Python Program(with class concepts) to find the area of the triangle using the below\n",
    "formula.\n",
    "area = (s*(s-a)*(s-b)*(s-c)) ** 0.5***"
   ]
  },
  {
   "cell_type": "markdown",
   "id": "f8868804",
   "metadata": {},
   "source": [
    "***Function to take the length of the sides of triangle from user should be defined in the parent\n",
    "class and function to calculate the area should be defined in subclass.***"
   ]
  },
  {
   "cell_type": "code",
   "execution_count": 1,
   "id": "80c629dd",
   "metadata": {},
   "outputs": [],
   "source": [
    "class Triangle_Sides:\n",
    "    def __init__(self):\n",
    "        self.a = int(input(\"a \"))\n",
    "        self.b = int(input(\"b \"))\n",
    "        self.c = int(input(\"c \"))\n"
   ]
  },
  {
   "cell_type": "code",
   "execution_count": 2,
   "id": "62fedd2e",
   "metadata": {},
   "outputs": [],
   "source": [
    "class Area_Triangle(Triangle_Sides):\n",
    "    def __init__(self,*args):\n",
    "        super(Area_Triangle,self).__init__(*args)\n",
    "        self.s = (self.a+self.b+self.c)/2\n",
    "        self.area = (self.s*(self.s-self.a)*(self.s-self.b)*(self.s-self.c))**0.5\n",
    "      \n",
    "    def __str__(self):\n",
    "        return \"Area of Triangle = \" + str(self.area)"
   ]
  },
  {
   "cell_type": "code",
   "execution_count": 3,
   "id": "ed8faec5",
   "metadata": {},
   "outputs": [
    {
     "name": "stdout",
     "output_type": "stream",
     "text": [
      "a 30\n",
      "b 40\n",
      "c 30\n"
     ]
    }
   ],
   "source": [
    "a1 = Area_Triangle()"
   ]
  },
  {
   "cell_type": "code",
   "execution_count": 4,
   "id": "08fadeed",
   "metadata": {},
   "outputs": [
    {
     "name": "stdout",
     "output_type": "stream",
     "text": [
      "Area of Triangle = 447.21359549995793\n"
     ]
    }
   ],
   "source": [
    "print(a1)"
   ]
  },
  {
   "cell_type": "markdown",
   "id": "653e6ca1",
   "metadata": {},
   "source": [
    "***1.2 Write a function filter_long_words() that takes a list of words and an integer n and returns\n",
    "the list of words that are longer than n.***"
   ]
  },
  {
   "cell_type": "code",
   "execution_count": 5,
   "id": "c7a4ba39",
   "metadata": {},
   "outputs": [],
   "source": [
    "def filter_long_words(lst,n):\n",
    "    return_lst = []\n",
    "    for i in lst:\n",
    "        if type(i) == str:\n",
    "            if len(i) > n:\n",
    "                return_lst.append(i)\n",
    "    return return_lst"
   ]
  },
  {
   "cell_type": "code",
   "execution_count": 6,
   "id": "501e98cd",
   "metadata": {},
   "outputs": [
    {
     "data": {
      "text/plain": [
       "['fdfdsgfdf', 'fffdsd', 'fdsf']"
      ]
     },
     "execution_count": 6,
     "metadata": {},
     "output_type": "execute_result"
    }
   ],
   "source": [
    "filter_long_words(['fdfdsgfdf','fffdsd','fdsf',23,'vvv'],3)"
   ]
  },
  {
   "cell_type": "markdown",
   "id": "ab5cb9bf",
   "metadata": {},
   "source": [
    "***2.1 Write a Python program using function concept that maps list of words into a list of integers\n",
    "representing the lengths of the corresponding words.***"
   ]
  },
  {
   "cell_type": "markdown",
   "id": "ac872f7a",
   "metadata": {},
   "source": [
    "***Hint: If a list [ ab,cde,erty] is passed on to the python function output should come as [2,3,4]\n",
    "Here 2,3 and 4 are the lengths of the words in the list.***"
   ]
  },
  {
   "cell_type": "code",
   "execution_count": 7,
   "id": "ac5c3010",
   "metadata": {},
   "outputs": [],
   "source": [
    "def word_lenght(lst):\n",
    "    return_lst = []\n",
    "    for i in lst:\n",
    "        if type(i) == str:\n",
    "            return_lst.append(len(i))\n",
    "        else:\n",
    "            return_lst.append('Not a Word')\n",
    "    return return_lst"
   ]
  },
  {
   "cell_type": "code",
   "execution_count": 8,
   "id": "45b83726",
   "metadata": {},
   "outputs": [
    {
     "data": {
      "text/plain": [
       "[7, 5, 'Not a Word', 6]"
      ]
     },
     "execution_count": 8,
     "metadata": {},
     "output_type": "execute_result"
    }
   ],
   "source": [
    "word_lenght(['vinayak','pawar',1987,'mumbai'])"
   ]
  },
  {
   "cell_type": "markdown",
   "id": "439bd292",
   "metadata": {},
   "source": [
    "***2.2 Write a Python function which takes a character (i.e. a string of length 1) and returns True if\n",
    "it is a vowel, False otherwise.***"
   ]
  },
  {
   "cell_type": "code",
   "execution_count": 9,
   "id": "db7562b9",
   "metadata": {},
   "outputs": [],
   "source": [
    "def find_vowel(v):\n",
    "    ls = [97,101,105,111,117,65,69,73,79,85]\n",
    "    a=0\n",
    "    if type(v) == str:\n",
    "        if len(v) == 1:\n",
    "            for i in ls:\n",
    "                if ord(v) == i:\n",
    "                    a = 1\n",
    "                    break\n",
    "    if a==1:\n",
    "        return True\n",
    "    if a!=1:\n",
    "        return False\n"
   ]
  },
  {
   "cell_type": "code",
   "execution_count": 10,
   "id": "0d14fac5",
   "metadata": {},
   "outputs": [
    {
     "data": {
      "text/plain": [
       "True"
      ]
     },
     "execution_count": 10,
     "metadata": {},
     "output_type": "execute_result"
    }
   ],
   "source": [
    "find_vowel('U')"
   ]
  }
 ],
 "metadata": {
  "kernelspec": {
   "display_name": "Python 3",
   "language": "python",
   "name": "python3"
  },
  "language_info": {
   "codemirror_mode": {
    "name": "ipython",
    "version": 3
   },
   "file_extension": ".py",
   "mimetype": "text/x-python",
   "name": "python",
   "nbconvert_exporter": "python",
   "pygments_lexer": "ipython3",
   "version": "3.8.8"
  }
 },
 "nbformat": 4,
 "nbformat_minor": 5
}
